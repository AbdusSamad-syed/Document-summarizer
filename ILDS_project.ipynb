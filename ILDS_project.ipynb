{
  "nbformat": 4,
  "nbformat_minor": 0,
  "metadata": {
    "colab": {
      "private_outputs": true,
      "provenance": [],
      "authorship_tag": "ABX9TyNc5wvfK5bBut+1WqucUtDd",
      "include_colab_link": true
    },
    "kernelspec": {
      "name": "python3",
      "display_name": "Python 3"
    },
    "language_info": {
      "name": "python"
    }
  },
  "cells": [
    {
      "cell_type": "markdown",
      "metadata": {
        "id": "view-in-github",
        "colab_type": "text"
      },
      "source": [
        "<a href=\"https://colab.research.google.com/github/AbdusSamad-syed/Document-summarizer/blob/main/ILDS_project.ipynb\" target=\"_parent\"><img src=\"https://colab.research.google.com/assets/colab-badge.svg\" alt=\"Open In Colab\"/></a>"
      ]
    },
    {
      "cell_type": "code",
      "source": [
        "!pip install transformers PyMuPDF sentencepiece gradio --quiet\n",
        "\n",
        "import os\n",
        "import fitz  # PyMuPDF\n",
        "from transformers import pipeline\n",
        "from typing import List\n",
        "import gradio as gr\n",
        "\n",
        "# STEP 1: Load Document\n",
        "def load_document(file_path: str) -> str:\n",
        "    if file_path.endswith(\".pdf\"):\n",
        "        text = \"\"\n",
        "        with fitz.open(file_path) as doc:\n",
        "            for page in doc:\n",
        "                text += page.get_text()\n",
        "        return text\n",
        "    elif file_path.endswith(\".txt\"):\n",
        "        with open(file_path, 'r', encoding='utf-8') as f:\n",
        "            return f.read()\n",
        "    else:\n",
        "        raise ValueError(\"Unsupported file format. Only PDF and TXT are allowed.\")\n",
        "\n",
        "# STEP 2: testing chunks\n",
        "def chunk_text(text: str, max_chunk_size: int = 1000) -> List[str]:\n",
        "    sentences = text.split('. ')\n",
        "    chunks = []\n",
        "    current_chunk = \"\"\n",
        "    for sentence in sentences:\n",
        "        if len(current_chunk) + len(sentence) < max_chunk_size:\n",
        "            current_chunk += sentence + \". \"\n",
        "        else:\n",
        "            chunks.append(current_chunk.strip())\n",
        "            current_chunk = sentence + \". \"\n",
        "    if current_chunk:\n",
        "        chunks.append(current_chunk.strip())\n",
        "    return chunks\n",
        "\n",
        "# STEP 3: Summarize chunks\n",
        "def summarize_chunks(chunks: List[str]) -> str:\n",
        "    summarizer = pipeline(\"summarization\", model=\"facebook/bart-large-cnn\")\n",
        "    summarized = \"\"\n",
        "    for chunk in chunks:\n",
        "        if len(chunk) < 50:\n",
        "            continue\n",
        "        summary = summarizer(chunk, max_length=130, min_length=30, do_sample=False)[0]['summary_text']\n",
        "        summarized += summary + \"\\n\"\n",
        "    return summarized.strip()\n",
        "\n",
        "# STEP 4: Full summary pipeline\n",
        "def summarize_file(file_obj) -> str:\n",
        "    file_path = file_obj.name\n",
        "    try:\n",
        "        raw_text = load_document(file_path)\n",
        "        chunks = chunk_text(raw_text)\n",
        "        summary = summarize_chunks(chunks)\n",
        "        return summary if summary else \"Summary is empty or document too short.\"\n",
        "    except Exception as e:\n",
        "        return f\" Error: {str(e)}\"\n",
        "\n",
        "# STEP 5: Gradio Interface\n",
        "iface = gr.Interface(\n",
        "    fn=summarize_file,\n",
        "    inputs=gr.File(file_types=[\".pdf\", \".txt\"]),\n",
        "    outputs=\"text\",\n",
        "    title=\"📄 AI Model- Intelligent Legal Document Summarizer\",\n",
        "    description=\"Upload a PDF or TXT file to get a concise summary using open-source models.\"\n",
        ")\n",
        "\n",
        "iface.launch(share=True)  # Use share=True to get public link\n"
      ],
      "metadata": {
        "id": "RzZpHX6L3ful"
      },
      "execution_count": null,
      "outputs": []
    }
  ]
}